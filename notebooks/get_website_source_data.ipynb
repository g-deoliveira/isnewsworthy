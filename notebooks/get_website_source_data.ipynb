{
 "cells": [
  {
   "cell_type": "code",
   "execution_count": 1,
   "id": "d72762d1",
   "metadata": {},
   "outputs": [],
   "source": [
    "import requests\n",
    "\n",
    "import pandas as pd\n",
    "\n",
    "import os\n",
    "import json\n",
    "from pathlib import Path, PurePath\n",
    "\n",
    "\n",
    "from newsworthy.utils import get_path_to_data_parsed_dir\n",
    "\n",
    "from newsworthy.get_website import WebsiteSource, split"
   ]
  },
  {
   "cell_type": "markdown",
   "id": "6def4278",
   "metadata": {},
   "source": [
    "# Tests"
   ]
  },
  {
   "cell_type": "code",
   "execution_count": 2,
   "id": "d74e0c62",
   "metadata": {},
   "outputs": [],
   "source": [
    "test = True"
   ]
  },
  {
   "cell_type": "code",
   "execution_count": 3,
   "id": "cf80d68d",
   "metadata": {},
   "outputs": [],
   "source": [
    "if test:\n",
    "    with open('../data/newsworthy_labels_and_urls.csv', 'r') as f:\n",
    "        lines = f.readlines()"
   ]
  },
  {
   "cell_type": "code",
   "execution_count": 4,
   "id": "4ab16d84",
   "metadata": {},
   "outputs": [
    {
     "name": "stdout",
     "output_type": "stream",
     "text": [
      "False\n",
      "https://guide.michelin.com/us/en/new-york-state/new-york/restaurant/speedy-romeo\n"
     ]
    }
   ],
   "source": [
    "if test:\n",
    "    idx = 2 # successful transmission of data\n",
    "    #idx = 27 # client error: forbidden for this url\n",
    "    #idx = 26 # timeout \n",
    "    #idx = 313\n",
    "    is_newsworthy, url = split(lines[idx])\n",
    "    print(f'{is_newsworthy}\\n{url}')"
   ]
  },
  {
   "cell_type": "code",
   "execution_count": 5,
   "id": "0c3156c6",
   "metadata": {},
   "outputs": [],
   "source": [
    "if test:\n",
    "    website_source = WebsiteSource(url, label=is_newsworthy, timeout=(4,4))"
   ]
  },
  {
   "cell_type": "code",
   "execution_count": 6,
   "id": "f6c90922",
   "metadata": {},
   "outputs": [],
   "source": [
    "if test:\n",
    "    website_source.make_http_request()"
   ]
  },
  {
   "cell_type": "code",
   "execution_count": 8,
   "id": "91a2ed3b",
   "metadata": {
    "scrolled": true
   },
   "outputs": [
    {
     "name": "stdout",
     "output_type": "stream",
     "text": [
      "1:: True\n",
      "2:: <Response [200]>\n",
      "4:: None\n",
      "5:: URL:https://guide.michelin.com/us/en/new-york-state/new-york/restaurant/speedy-romeo\n",
      "LABEL:False\n",
      "HEADERS:{'Content-Type': 'text/html;charset=utf-8', 'Transfer-Encoding': 'chunked', 'Connection': 'keep-alive', 'Date': 'Tue, 18 Jan 2022 02:10:54 GMT', 'Server': 'Apache', 'x-frame-options': 'SAMEORIGIN', 'x-application-context': 'application:production', 'Set-Cookie': 'JSESSIONID=1FA3E1C94E15D4B252079E038FA8A854; Path=/; Secure; HttpOnly', 'Content-Language': 'en', 'Content-Encoding': 'gzip', 'strict-transport-security': 'max-age=31536000; includeSubDomains', 'x-content-type-options': 'nosniff', 'referrer-policy': 'no-referrer-when-downgrade', 'content-security-policy': \"default-src http: https:; script-src http: https: 'unsafe-inline' 'unsafe-eval'; style-src http: https: 'unsafe-inline'; img-src http: https: data:; connect-src http: https: wss://*.hotjar.com\", 'feature-policy': \"microphone 'none'; camera 'none'; midi 'none'\", 'x-xss-protection': '1; mode=block', 'Vary': 'Accept-Encoding', 'X-Cache': 'Hit from cloudfront', 'Via': '1.1 978d7ccfdbed8c0e3015142e29dd5c5c.cloudfront.net (CloudFront)', 'X-Amz-Cf-Pop': 'EWR53-P1', 'X-Amz-Cf-Id': 'AkGpuAxdmbEcsMCOO9s5uDXE2NazuuIXbAQpzOKj7IO7fHsElY0fzw==', 'Age': '72'}\n",
      "ERROR:None\n",
      "SOURCE_LENGTH:202211\n"
     ]
    }
   ],
   "source": [
    "if test:\n",
    "    print('1::', website_source.ok)\n",
    "    print('2::', website_source._response)\n",
    "    print('3::', website_source._error)\n",
    "    print('4::', website_source)\n",
    "    "
   ]
  },
  {
   "cell_type": "code",
   "execution_count": null,
   "id": "36617c94",
   "metadata": {},
   "outputs": [],
   "source": []
  },
  {
   "cell_type": "code",
   "execution_count": null,
   "id": "55fec84b",
   "metadata": {},
   "outputs": [],
   "source": []
  },
  {
   "cell_type": "code",
   "execution_count": null,
   "id": "d4da60d4",
   "metadata": {},
   "outputs": [],
   "source": []
  },
  {
   "cell_type": "code",
   "execution_count": null,
   "id": "5f1f414c",
   "metadata": {},
   "outputs": [],
   "source": []
  },
  {
   "cell_type": "markdown",
   "id": "917c5419",
   "metadata": {},
   "source": [
    "# Get Raw Source Code For Webites\n",
    "\n",
    "given the list of urls in the file `urls.csv`,\n",
    "make the request to get the raw source code and store locally to avoid hitting multiple times\n"
   ]
  },
  {
   "cell_type": "code",
   "execution_count": null,
   "id": "9543a56e",
   "metadata": {},
   "outputs": [],
   "source": []
  },
  {
   "cell_type": "code",
   "execution_count": 13,
   "id": "2861777d",
   "metadata": {},
   "outputs": [],
   "source": [
    "def process_url(file_index, line, reprocess=False, verbose=False, timeout=(20,40)):\n",
    "    '''\n",
    "    file_index:\n",
    "        the line number in the `newsworthy_labels_and_urls.csv` file\n",
    "        this will be used to name the metadata and html source files written to the data/parsed directory\n",
    "    line: \n",
    "        the line loaded from the `newsworthy_labels_and_urls.csv` file\n",
    "        this contains the label and URL\n",
    "    reprocess: \n",
    "        if True, the URL source code is requested and any previously written files in the data/parsed/ directory are overwritten; \n",
    "        if False, skips any URLs that have already been processed and have files written in the data/parsed directory\n",
    "    timeout:\n",
    "        (int, int) contains the connect timeout and the read timeout\n",
    "        - the connect timeout is the number of seconds Requests will wait for the client to establish a connection\n",
    "        - the read timeout is the number of seconds the client will wait for the server to send a response\n",
    "    '''\n",
    "    \n",
    "    # file names\n",
    "    prefix = f'{str(file_index).zfill(4)}'\n",
    "    json_file_name = f'{prefix}.json'\n",
    "    html_file_name = f'{prefix}.html'\n",
    "    \n",
    "    if verbose: print(json_file_name, html_file_name)\n",
    "    \n",
    "    data_path = get_path_to_data_parsed_dir()\n",
    "    \n",
    "    fj = Path(data_path, json_file_name)\n",
    "    fh = Path(data_path, html_file_name)\n",
    "        \n",
    "    if fj.exists() and fh.exists() and not reprocess:\n",
    "        if verbose:\n",
    "            print(f'files exist for: {prefix}')\n",
    "        return False\n",
    "    \n",
    "    else:\n",
    "\n",
    "        print(f'created files for: {prefix}')\n",
    "        fj.touch()\n",
    "        fh.touch()\n",
    "    \n",
    "        label, url = split(line)\n",
    "    \n",
    "        website_source = WebsiteSource(url, label=label, timeout=timeout)\n",
    "        website_source.make_http_request()\n",
    "        \n",
    "        website_source.write_metadata_to_json(fj)        \n",
    "        website_source.write_html_source_to_file(fh)\n",
    "        \n",
    "        return True"
   ]
  },
  {
   "cell_type": "markdown",
   "id": "2c55c07e",
   "metadata": {},
   "source": [
    "# Tests"
   ]
  },
  {
   "cell_type": "code",
   "execution_count": 14,
   "id": "766ad37a",
   "metadata": {},
   "outputs": [
    {
     "name": "stdout",
     "output_type": "stream",
     "text": [
      "0357.json 0357.html\n",
      "files exist for: 0357\n"
     ]
    }
   ],
   "source": [
    "if test:\n",
    "    line = lines[idx]\n",
    "    \n",
    "    process_url(file_index=idx, line=line, reprocess=False, verbose=True)"
   ]
  },
  {
   "cell_type": "markdown",
   "id": "f167e573",
   "metadata": {},
   "source": [
    "# Run All"
   ]
  },
  {
   "cell_type": "code",
   "execution_count": 16,
   "id": "c290cb47",
   "metadata": {},
   "outputs": [],
   "source": [
    "with open('../data/newsworthy_labels_and_urls.csv', 'r') as f:\n",
    "    lines = f.readlines()"
   ]
  },
  {
   "cell_type": "code",
   "execution_count": 19,
   "id": "ad284bbc",
   "metadata": {},
   "outputs": [
    {
     "name": "stdout",
     "output_type": "stream",
     "text": [
      "Done procesed 0 files successfully\n"
     ]
    }
   ],
   "source": [
    "verbose = False\n",
    "reprocess = False\n",
    "\n",
    "processed_file_count = 0\n",
    "for idx, line in enumerate(lines):\n",
    "\n",
    "    status = process_url(idx, line, reprocess=reprocess, verbose=verbose)\n",
    "    processed_file_count += status\n",
    "\n",
    "print(f'Done. Procesed {processed_file_count} files successfully')"
   ]
  },
  {
   "cell_type": "code",
   "execution_count": null,
   "id": "9612ebc8",
   "metadata": {},
   "outputs": [],
   "source": []
  },
  {
   "cell_type": "code",
   "execution_count": null,
   "id": "53f7fabc",
   "metadata": {},
   "outputs": [],
   "source": []
  },
  {
   "cell_type": "code",
   "execution_count": null,
   "id": "0f37709f",
   "metadata": {},
   "outputs": [],
   "source": []
  }
 ],
 "metadata": {
  "kernelspec": {
   "display_name": "Python 3 (ipykernel)",
   "language": "python",
   "name": "python3"
  },
  "language_info": {
   "codemirror_mode": {
    "name": "ipython",
    "version": 3
   },
   "file_extension": ".py",
   "mimetype": "text/x-python",
   "name": "python",
   "nbconvert_exporter": "python",
   "pygments_lexer": "ipython3",
   "version": "3.8.2"
  }
 },
 "nbformat": 4,
 "nbformat_minor": 5
}
